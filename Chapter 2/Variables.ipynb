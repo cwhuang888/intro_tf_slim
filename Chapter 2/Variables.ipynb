{
 "cells": [
  {
   "cell_type": "markdown",
   "metadata": {},
   "source": [
    "# `Variables` in TensorFlow-Slim\n",
    "*by Marvin Bertin*\n",
    "<img src=\"../images/tensorflow.png\" width=\"400\">"
   ]
  },
  {
   "cell_type": "markdown",
   "metadata": {},
   "source": [
    "\n",
    "### TensorFlow Computational Graph\n",
    "<img src=\"../images/tensors_flowing.gif\" width=\"300\" align=right>\n",
    "* **Directed graph**, where nodes are connected by directed edges.\n",
    "* **Nodes** represent **mathematical operations** (computations).\n",
    "* **Edges** represent the **multidimensional data arrays** (tensors) *flowing* between the nodes.\n",
    "\n",
    "### Variables\n",
    "In TensorFlow, a `Variable`: \n",
    "- is a mutable node in the computational graph\n",
    "- is a Tensor of data\n",
    "- has a shape\n",
    "- has an initial value\n",
    "- has a name\n",
    "\n",
    "### Variable Useage\n",
    "`Variables` are most often used to hold the trainable paramters in a Deep Learning model. They can be saved to disk and reloaded later for model analysis or inference. However, there exist other types of `Variables`.\n",
    "\n",
    "### TensorFlow Variable Types\n",
    "- **Regular Variable** - A variable that do not necessarily represent the model. They are used during learning or evaluation but are not required for actually performing inference.\n",
    "- **Model Variable** - A type of trainable variable that represent the Deep Learning model parameters. These variables are updated during training and loaded from checkpoints during evaluation or inference.\n",
    "- **Local Variable** - A transient variable that only exist for the duration of the session and is not saved to disk.\n",
    "- **Global Variable** - A variable that persists across every training iterations and is globally accessible.\n",
    "\n",
    "\n",
    "### TensorFlow-Slim - `Variables`\n",
    "TF-Slim provides a set of thin wrapper functions, that makes variable creation and manipulation simpler. <br>\n",
    "All variable related functions are accesssible in [variable.py](https://github.com/tensorflow/tensorflow/blob/r0.12/tensorflow/contrib/framework/python/ops/variables.py). <br>\n",
    "<br>\n",
    "The following methods will be covered in this notebook:\n",
    "```\n",
    "slim.variable\n",
    "slim.model_variable\n",
    "slim.local_variable\n",
    "slim.get_or_create_global_step\n",
    "slim.get_variables\n",
    "slim.get_model_variables\n",
    "slim.get_local_variables\n",
    "slim.get_global_step\n",
    "```"
   ]
  },
  {
   "cell_type": "markdown",
   "metadata": {},
   "source": [
    "## Import TensorFlow"
   ]
  },
  {
   "cell_type": "code",
   "execution_count": 1,
   "metadata": {
    "collapsed": true
   },
   "outputs": [],
   "source": [
    "from __future__ import absolute_import\n",
    "from __future__ import division\n",
    "from __future__ import print_function\n",
    "\n",
    "import tensorflow as tf\n",
    "slim = tf.contrib.slim"
   ]
  },
  {
   "cell_type": "markdown",
   "metadata": {},
   "source": [
    "## Import Helper Functions"
   ]
  },
  {
   "cell_type": "code",
   "execution_count": 2,
   "metadata": {
    "collapsed": false
   },
   "outputs": [],
   "source": [
    "import sys  \n",
    "sys.path.append(\"../\") \n",
    "\n",
    "from utils.pretty_printer import inspect_variables, inspect_layers"
   ]
  },
  {
   "cell_type": "markdown",
   "metadata": {},
   "source": [
    "## Defining Variables with Native TensorFlow\n",
    "\n",
    "Example of defining different variable types with regular Tensorflow"
   ]
  },
  {
   "cell_type": "code",
   "execution_count": 3,
   "metadata": {
    "collapsed": false
   },
   "outputs": [],
   "source": [
    "# Initialize graph\n",
    "g = tf.Graph()\n",
    "with g.as_default():\n",
    "\n",
    "    # Global variable\n",
    "    global_step = tf.Variable(tf.constant(value=1, shape=[], dtype=tf.int32),\n",
    "                              trainable=False,\n",
    "                              name=\"global_step\",\n",
    "                              collections=[\"global_variables\"])\n",
    "\n",
    "    # Start variable scope\n",
    "    with tf.variable_scope(\"TF-Native\"):\n",
    "        # Pin variables to CPU.\n",
    "        with tf.device(\"/cpu:0\"):\n",
    "            \n",
    "            # Model variable\n",
    "            weights = tf.Variable(trainable=True,\n",
    "                                  name=\"weights\",\n",
    "                                  initial_value=tf.truncated_normal([3, 3, 64, 128],\n",
    "                                                                    stddev=0.1,\n",
    "                                                                    dtype=tf.float32),\n",
    "                                  collections=[\"model_variables\"])\n",
    "            # Model variable\n",
    "            biases = tf.Variable(tf.constant(0.0, shape=[128], dtype=tf.float32),\n",
    "                                 trainable=True,\n",
    "                                 name=\"biases\",\n",
    "                                 collections=[\"model_variables\"])\n",
    "\n",
    "            # regularization loss on model parameters\n",
    "            regularizers = (tf.nn.l2_loss(weights) + tf.nn.l2_loss(biases))\n",
    "\n",
    "            # Trainable regular variable\n",
    "            predictions = tf.Variable(tf.constant(0.0, shape=[32, 10], dtype=tf.float32),\n",
    "                                      trainable=True,\n",
    "                                      name=\"predictions\",\n",
    "                                      collections=[\"trainable_variables\"])\n",
    "            # Local variable\n",
    "            accuracy = tf.Variable(tf.constant(0.0, shape=[], dtype=tf.float32),\n",
    "                                   trainable=False,\n",
    "                                   name=\"accuracy\",\n",
    "                                   collections=[\"local_variables\"])"
   ]
  },
  {
   "cell_type": "markdown",
   "metadata": {},
   "source": [
    "## Inspect Name Space"
   ]
  },
  {
   "cell_type": "code",
   "execution_count": 4,
   "metadata": {
    "collapsed": false
   },
   "outputs": [
    {
     "name": "stdout",
     "output_type": "stream",
     "text": [
      "Variables:\n",
      "name = global_step:0                                           shape = ()\n",
      "name = TF-Native/weights:0                                     shape = (3, 3, 64, 128)\n",
      "name = TF-Native/biases:0                                      shape = (128,)\n",
      "name = TF-Native/predictions:0                                 shape = (32, 10)\n",
      "name = TF-Native/accuracy:0                                    shape = ()\n",
      "\n"
     ]
    }
   ],
   "source": [
    "with g.as_default():\n",
    "    print(\"Variables:\")\n",
    "    inspect_variables([global_step, weights, biases, predictions, accuracy])"
   ]
  },
  {
   "cell_type": "markdown",
   "metadata": {},
   "source": [
    "## Defining Variables with TensorFlow-Slim\n",
    "TF-Slim provides mutiple wrappers functions that makes initializing and manipulating variables easier."
   ]
  },
  {
   "cell_type": "markdown",
   "metadata": {},
   "source": [
    "    => slim.get_or_create_global_step(graph=None)\n",
    "    Docstring:\n",
    "    Returns and create (if necessary) the global step variable.\n",
    "\n",
    "    Args:\n",
    "      graph: The graph in which to create the global step. If missing, use default\n",
    "          graph.\n",
    "\n",
    "    Returns:\n",
    "      the tensor representing the global step variable.\n",
    "---\n",
    "    => slim.model_variable(*args, **kwargs)\n",
    "    Docstring:\n",
    "    Gets an existing model variable with these parameters or creates a new one.\n",
    "\n",
    "    Args:\n",
    "      name: the name of the new or existing variable.\n",
    "      shape: shape of the new or existing variable.\n",
    "      dtype: type of the new or existing variable (defaults to `DT_FLOAT`).\n",
    "      initializer: initializer for the variable if one is created.\n",
    "      regularizer: a (Tensor -> Tensor or None) function; the result of\n",
    "          applying it on a newly created variable will be added to the collection\n",
    "          GraphKeys.REGULARIZATION_LOSSES and can be used for regularization.\n",
    "      trainable: If `True` also add the variable to the graph collection\n",
    "        `GraphKeys.TRAINABLE_VARIABLES` (see tf.Variable).\n",
    "      device: Optional device to place the variable. It can be an string or a\n",
    "        function that is called to get the device for the variable.\n",
    "      ...\n",
    "\n",
    "    Returns:\n",
    "      The created or existing variable.\n",
    "---\n",
    "    => slim.variable(*args, **kwargs)\n",
    "    Docstring:\n",
    "    Gets an existing variable with these parameters or creates a new one.\n",
    "\n",
    "    Args:\n",
    "      name: the name of the new or existing variable.\n",
    "      shape: shape of the new or existing variable.\n",
    "      dtype: type of the new or existing variable (defaults to `DT_FLOAT`).\n",
    "      initializer: initializer for the variable if one is created.\n",
    "      regularizer: a (Tensor -> Tensor or None) function; the result of\n",
    "          applying it on a newly created variable will be added to the collection\n",
    "          GraphKeys.REGULARIZATION_LOSSES and can be used for regularization.\n",
    "      trainable: If `True` also add the variable to the graph collection\n",
    "        `GraphKeys.TRAINABLE_VARIABLES` (see tf.Variable).\n",
    "      device: Optional device to place the variable. It can be an string or a\n",
    "        function that is called to get the device for the variable.\n",
    "      ...\n",
    "\n",
    "    Returns:\n",
    "      The created or existing variable.\n",
    "---\n",
    "    => slim.local_variable(initial_value, validate_shape=True, name=None)\n",
    "    Docstring:\n",
    "    Create variable and add it to `GraphKeys.LOCAL_VARIABLES` collection.\n",
    "\n",
    "    Args:\n",
    "      initial_value: A `Tensor`, or Python object convertible to a `Tensor`,\n",
    "          which is the initial value for the Variable.\n",
    "      name: Optional name for the variable. Defaults to `'Variable'` and gets\n",
    "          uniquified automatically.\n",
    "      ...\n",
    "      \n",
    "    Returns:\n",
    "      New variable."
   ]
  },
  {
   "cell_type": "code",
   "execution_count": 24,
   "metadata": {
    "collapsed": false,
    "scrolled": false
   },
   "outputs": [],
   "source": [
    "# Initialize graph\n",
    "g = tf.Graph()\n",
    "with g.as_default():\n",
    "    \n",
    "    # Global variable\n",
    "    global_step = slim.get_or_create_global_step()\n",
    "    \n",
    "    with tf.variable_scope(\"TF-Slim-weights\"):    \n",
    "        # Model variable\n",
    "        weights = slim.model_variable('weights',\n",
    "                                      shape=[3, 3, 64, 128],\n",
    "                                      initializer=tf.truncated_normal_initializer(stddev=0.01),\n",
    "                                      regularizer=slim.l2_regularizer(0.05),\n",
    "                                      device='/cpu:0')\n",
    "        # Model variable\n",
    "        biases = slim.model_variable('biases',\n",
    "                                      shape=[128],\n",
    "                                      initializer=tf.zeros_initializer(),\n",
    "                                      regularizer=slim.l2_regularizer(0.05),\n",
    "                                      device='/cpu:0')\n",
    "\n",
    "    # Trainable variable\n",
    "    probabilities = slim.variable('probabilities',\n",
    "                                  shape=[32, 10],\n",
    "                                  initializer=tf.zeros_initializer())\n",
    "    # Local variable\n",
    "    accuracy = slim.local_variable(initial_value=0.0,name=\"accuracy\")\n"
   ]
  },
  {
   "cell_type": "markdown",
   "metadata": {},
   "source": [
    "## Inspect Name Space\n",
    "TF-Slim makes is possible to collect all graph variables filtered by *scope* or *variable type*, with the function:\n",
    "\n",
    "    => slim.get_variables(scope=None, suffix=None, collection='variables')\n",
    "    \n",
    "    Docstring:\n",
    "    Gets the list of variables, filtered by scope and/or suffix.\n",
    "\n",
    "    Args:\n",
    "      scope: an optional scope for filtering the variables to return.\n",
    "      suffix: an optional suffix for filtering the variables to return.\n",
    "      collection: in which collection search for. Defaults to GraphKeys.VARIABLES.\n",
    "\n",
    "    Returns:\n",
    "      a list of variables in collection with scope and suffix."
   ]
  },
  {
   "cell_type": "markdown",
   "metadata": {},
   "source": [
    "## Scope Variables"
   ]
  },
  {
   "cell_type": "code",
   "execution_count": 25,
   "metadata": {
    "collapsed": false
   },
   "outputs": [
    {
     "name": "stdout",
     "output_type": "stream",
     "text": [
      "TF-Slim-weights:\n",
      "name = TF-Slim-weights/weights:0                               shape = (3, 3, 64, 128)\n",
      "name = TF-Slim-weights/biases:0                                shape = (128,)\n",
      "\n"
     ]
    }
   ],
   "source": [
    "with g.as_default():   \n",
    "    print(\"TF-Slim-weights:\")\n",
    "    inspect_variables(slim.get_variables(scope=\"TF-Slim-weights\"))    "
   ]
  },
  {
   "cell_type": "markdown",
   "metadata": {},
   "source": [
    "## Model Variables"
   ]
  },
  {
   "cell_type": "code",
   "execution_count": 26,
   "metadata": {
    "collapsed": false
   },
   "outputs": [
    {
     "name": "stdout",
     "output_type": "stream",
     "text": [
      "model_variables:\n",
      "name = TF-Slim-weights/weights:0                               shape = (3, 3, 64, 128)\n",
      "name = TF-Slim-weights/biases:0                                shape = (128,)\n",
      "\n"
     ]
    }
   ],
   "source": [
    "with g.as_default():\n",
    "    print(\"model_variables:\")\n",
    "    inspect_variables(slim.get_variables(collection=\"model_variables\"))"
   ]
  },
  {
   "cell_type": "markdown",
   "metadata": {},
   "source": [
    "## Trainable Variables"
   ]
  },
  {
   "cell_type": "code",
   "execution_count": 27,
   "metadata": {
    "collapsed": false
   },
   "outputs": [
    {
     "name": "stdout",
     "output_type": "stream",
     "text": [
      "trainable_variables:\n",
      "name = TF-Slim-weights/weights:0                               shape = (3, 3, 64, 128)\n",
      "name = TF-Slim-weights/biases:0                                shape = (128,)\n",
      "name = probabilities:0                                         shape = (32, 10)\n",
      "\n"
     ]
    }
   ],
   "source": [
    "with g.as_default():\n",
    "    print(\"trainable_variables:\")\n",
    "    inspect_variables(slim.get_variables(collection=\"trainable_variables\"))"
   ]
  },
  {
   "cell_type": "markdown",
   "metadata": {},
   "source": [
    "## Global Variables"
   ]
  },
  {
   "cell_type": "code",
   "execution_count": 28,
   "metadata": {
    "collapsed": false
   },
   "outputs": [
    {
     "name": "stdout",
     "output_type": "stream",
     "text": [
      "global_variables:\n",
      "name = global_step:0                                           shape = ()\n",
      "\n"
     ]
    }
   ],
   "source": [
    "with g.as_default():\n",
    "    print(\"global_variables:\")\n",
    "    inspect_variables([slim.get_global_step()])"
   ]
  },
  {
   "cell_type": "markdown",
   "metadata": {},
   "source": [
    "## Local Variables"
   ]
  },
  {
   "cell_type": "code",
   "execution_count": 29,
   "metadata": {
    "collapsed": false,
    "scrolled": true
   },
   "outputs": [
    {
     "name": "stdout",
     "output_type": "stream",
     "text": [
      "local_variables:\n",
      "name = accuracy:0                                              shape = ()\n",
      "\n"
     ]
    }
   ],
   "source": [
    "with g.as_default():\n",
    "    print(\"local_variables:\")\n",
    "    inspect_variables(slim.get_variables(collection=\"local_variables\"))"
   ]
  },
  {
   "cell_type": "markdown",
   "metadata": {},
   "source": [
    "## Regularization Losses"
   ]
  },
  {
   "cell_type": "code",
   "execution_count": 30,
   "metadata": {
    "collapsed": false
   },
   "outputs": [
    {
     "name": "stdout",
     "output_type": "stream",
     "text": [
      "regularization_losses:\n",
      "name = TF-Slim-weights/weights/Regularizer/l2_regularizer:0    shape = ()\n",
      "name = TF-Slim-weights/biases/Regularizer/l2_regularizer:0     shape = ()\n",
      "\n"
     ]
    }
   ],
   "source": [
    "with g.as_default():\n",
    "    print(\"regularization_losses:\")\n",
    "    inspect_variables(slim.get_variables(collection=\"regularization_losses\"))"
   ]
  },
  {
   "cell_type": "markdown",
   "metadata": {},
   "source": [
    "## Next Lesson\n",
    "### `Layers` in TensorFlow-Slim\n",
    "- Combining primitive TF operations into abstract higher level layers.\n",
    "\n",
    "<img src=\"../images/divider.png\" width=\"100\">"
   ]
  }
 ],
 "metadata": {
  "anaconda-cloud": {},
  "kernelspec": {
   "display_name": "Python [conda env:TF-latest]",
   "language": "python",
   "name": "conda-env-TF-latest-py"
  },
  "language_info": {
   "codemirror_mode": {
    "name": "ipython",
    "version": 2
   },
   "file_extension": ".py",
   "mimetype": "text/x-python",
   "name": "python",
   "nbconvert_exporter": "python",
   "pygments_lexer": "ipython2",
   "version": "2.7.13"
  }
 },
 "nbformat": 4,
 "nbformat_minor": 1
}
